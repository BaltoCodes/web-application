{
 "cells": [
  {
   "cell_type": "code",
   "execution_count": 5,
   "id": "258acd9f",
   "metadata": {},
   "outputs": [
    {
     "name": "stdout",
     "output_type": "stream",
     "text": [
      "Le prix futur du Bitcoin (BTC/USDT) est : 42999.37 USDT\n",
      "Le prix Spot du Bitcoin (BTC/USDT) est : 43006.0 USDT\n"
     ]
    }
   ],
   "source": [
    "import ccxt\n",
    "\n",
    "binance_key='BB3uz74iKR5xO9hamwMlxqILCMP94JCECOXsKfvYtk7463q2QkPt3vwl4XgaFq0q'\n",
    "binance_secret='xRBLtVuyGWBLTQsxpYoPslPROAMw3e0DMwhv1B0501jesEEYJbPQg7SUOB9KKf8D'\n",
    "\n",
    "\n",
    "\n",
    "def get_futures_price(symbol, timeframe='1h', limit=1):\n",
    "    # Créer une instance d'échange (exchange)\n",
    "    exchange = ccxt.binance({\n",
    "        'apiKey': binance_key,\n",
    "        'secret': binance_secret,\n",
    "    })\n",
    "\n",
    "    # Récupérer les données historiques des contrats à terme (futures)\n",
    "    ohlcv = exchange.fetch_ohlcv(symbol, timeframe, limit=limit)\n",
    "\n",
    "    # Extraire le prix de clôture (Close) du dernier élément\n",
    "    futures_price = ohlcv[-1][4]\n",
    "\n",
    "    return futures_price\n",
    "\n",
    "\n",
    "def get_spot_price(symbol):\n",
    "    # Créer une instance d'échange (exchange)\n",
    "    exchange = ccxt.binance()\n",
    "\n",
    "    # Récupérer le ticker pour le symbole spécifié\n",
    "    ticker = exchange.fetch_ticker(symbol)\n",
    "\n",
    "    # Extraire le prix actuel (last price) du ticker\n",
    "    spot_price = ticker['last']\n",
    "\n",
    "    return spot_price\n",
    "\n",
    "\n",
    "\n",
    "\n",
    "# Exemple d'utilisation\n",
    "symbol = 'BTC/USDT'\n",
    "futures_price = get_futures_price(symbol)\n",
    "spot_price=get_spot_price(symbol)\n",
    "print(f'Le prix futur du Bitcoin ({symbol}) est : {futures_price} USDT')\n",
    "print(f'Le prix Spot du Bitcoin ({symbol}) est : {spot_price} USDT')\n",
    "\n"
   ]
  }
 ],
 "metadata": {
  "kernelspec": {
   "display_name": "Python 3",
   "language": "python",
   "name": "python3"
  },
  "language_info": {
   "codemirror_mode": {
    "name": "ipython",
    "version": 3
   },
   "file_extension": ".py",
   "mimetype": "text/x-python",
   "name": "python",
   "nbconvert_exporter": "python",
   "pygments_lexer": "ipython3",
   "version": "3.8.8"
  }
 },
 "nbformat": 4,
 "nbformat_minor": 5
}
